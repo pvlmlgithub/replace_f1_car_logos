{
  "nbformat": 4,
  "nbformat_minor": 0,
  "metadata": {
    "colab": {
      "provenance": []
    },
    "kernelspec": {
      "name": "python3",
      "display_name": "Python 3"
    },
    "language_info": {
      "name": "python"
    }
  },
  "cells": [
    {
      "cell_type": "code",
      "execution_count": null,
      "metadata": {
        "colab": {
          "base_uri": "https://localhost:8080/"
        },
        "id": "RFyroLJKM4wb",
        "outputId": "366ae259-c860-4429-f1e8-89979be0cbca"
      },
      "outputs": [
        {
          "output_type": "stream",
          "name": "stdout",
          "text": [
            "Collecting ultralytics\n",
            "  Downloading ultralytics-8.1.5-py3-none-any.whl (702 kB)\n",
            "\u001b[2K     \u001b[90m━━━━━━━━━━━━━━━━━━━━━━━━━━━━━━━━━━━━━━━━\u001b[0m \u001b[32m702.8/702.8 kB\u001b[0m \u001b[31m7.0 MB/s\u001b[0m eta \u001b[36m0:00:00\u001b[0m\n",
            "\u001b[?25hRequirement already satisfied: matplotlib>=3.3.0 in /usr/local/lib/python3.10/dist-packages (from ultralytics) (3.7.1)\n",
            "Requirement already satisfied: numpy>=1.22.2 in /usr/local/lib/python3.10/dist-packages (from ultralytics) (1.23.5)\n",
            "Requirement already satisfied: opencv-python>=4.6.0 in /usr/local/lib/python3.10/dist-packages (from ultralytics) (4.8.0.76)\n",
            "Requirement already satisfied: pillow>=7.1.2 in /usr/local/lib/python3.10/dist-packages (from ultralytics) (9.4.0)\n",
            "Requirement already satisfied: pyyaml>=5.3.1 in /usr/local/lib/python3.10/dist-packages (from ultralytics) (6.0.1)\n",
            "Requirement already satisfied: requests>=2.23.0 in /usr/local/lib/python3.10/dist-packages (from ultralytics) (2.31.0)\n",
            "Requirement already satisfied: scipy>=1.4.1 in /usr/local/lib/python3.10/dist-packages (from ultralytics) (1.11.4)\n",
            "Requirement already satisfied: torch>=1.8.0 in /usr/local/lib/python3.10/dist-packages (from ultralytics) (2.1.0+cu121)\n",
            "Requirement already satisfied: torchvision>=0.9.0 in /usr/local/lib/python3.10/dist-packages (from ultralytics) (0.16.0+cu121)\n",
            "Requirement already satisfied: tqdm>=4.64.0 in /usr/local/lib/python3.10/dist-packages (from ultralytics) (4.66.1)\n",
            "Requirement already satisfied: psutil in /usr/local/lib/python3.10/dist-packages (from ultralytics) (5.9.5)\n",
            "Requirement already satisfied: py-cpuinfo in /usr/local/lib/python3.10/dist-packages (from ultralytics) (9.0.0)\n",
            "Collecting thop>=0.1.1 (from ultralytics)\n",
            "  Downloading thop-0.1.1.post2209072238-py3-none-any.whl (15 kB)\n",
            "Requirement already satisfied: pandas>=1.1.4 in /usr/local/lib/python3.10/dist-packages (from ultralytics) (1.5.3)\n",
            "Requirement already satisfied: seaborn>=0.11.0 in /usr/local/lib/python3.10/dist-packages (from ultralytics) (0.13.1)\n",
            "Requirement already satisfied: contourpy>=1.0.1 in /usr/local/lib/python3.10/dist-packages (from matplotlib>=3.3.0->ultralytics) (1.2.0)\n",
            "Requirement already satisfied: cycler>=0.10 in /usr/local/lib/python3.10/dist-packages (from matplotlib>=3.3.0->ultralytics) (0.12.1)\n",
            "Requirement already satisfied: fonttools>=4.22.0 in /usr/local/lib/python3.10/dist-packages (from matplotlib>=3.3.0->ultralytics) (4.47.2)\n",
            "Requirement already satisfied: kiwisolver>=1.0.1 in /usr/local/lib/python3.10/dist-packages (from matplotlib>=3.3.0->ultralytics) (1.4.5)\n",
            "Requirement already satisfied: packaging>=20.0 in /usr/local/lib/python3.10/dist-packages (from matplotlib>=3.3.0->ultralytics) (23.2)\n",
            "Requirement already satisfied: pyparsing>=2.3.1 in /usr/local/lib/python3.10/dist-packages (from matplotlib>=3.3.0->ultralytics) (3.1.1)\n",
            "Requirement already satisfied: python-dateutil>=2.7 in /usr/local/lib/python3.10/dist-packages (from matplotlib>=3.3.0->ultralytics) (2.8.2)\n",
            "Requirement already satisfied: pytz>=2020.1 in /usr/local/lib/python3.10/dist-packages (from pandas>=1.1.4->ultralytics) (2023.3.post1)\n",
            "Requirement already satisfied: charset-normalizer<4,>=2 in /usr/local/lib/python3.10/dist-packages (from requests>=2.23.0->ultralytics) (3.3.2)\n",
            "Requirement already satisfied: idna<4,>=2.5 in /usr/local/lib/python3.10/dist-packages (from requests>=2.23.0->ultralytics) (3.6)\n",
            "Requirement already satisfied: urllib3<3,>=1.21.1 in /usr/local/lib/python3.10/dist-packages (from requests>=2.23.0->ultralytics) (2.0.7)\n",
            "Requirement already satisfied: certifi>=2017.4.17 in /usr/local/lib/python3.10/dist-packages (from requests>=2.23.0->ultralytics) (2023.11.17)\n",
            "Requirement already satisfied: filelock in /usr/local/lib/python3.10/dist-packages (from torch>=1.8.0->ultralytics) (3.13.1)\n",
            "Requirement already satisfied: typing-extensions in /usr/local/lib/python3.10/dist-packages (from torch>=1.8.0->ultralytics) (4.5.0)\n",
            "Requirement already satisfied: sympy in /usr/local/lib/python3.10/dist-packages (from torch>=1.8.0->ultralytics) (1.12)\n",
            "Requirement already satisfied: networkx in /usr/local/lib/python3.10/dist-packages (from torch>=1.8.0->ultralytics) (3.2.1)\n",
            "Requirement already satisfied: jinja2 in /usr/local/lib/python3.10/dist-packages (from torch>=1.8.0->ultralytics) (3.1.3)\n",
            "Requirement already satisfied: fsspec in /usr/local/lib/python3.10/dist-packages (from torch>=1.8.0->ultralytics) (2023.6.0)\n",
            "Requirement already satisfied: triton==2.1.0 in /usr/local/lib/python3.10/dist-packages (from torch>=1.8.0->ultralytics) (2.1.0)\n",
            "Requirement already satisfied: six>=1.5 in /usr/local/lib/python3.10/dist-packages (from python-dateutil>=2.7->matplotlib>=3.3.0->ultralytics) (1.16.0)\n",
            "Requirement already satisfied: MarkupSafe>=2.0 in /usr/local/lib/python3.10/dist-packages (from jinja2->torch>=1.8.0->ultralytics) (2.1.3)\n",
            "Requirement already satisfied: mpmath>=0.19 in /usr/local/lib/python3.10/dist-packages (from sympy->torch>=1.8.0->ultralytics) (1.3.0)\n",
            "Installing collected packages: thop, ultralytics\n",
            "Successfully installed thop-0.1.1.post2209072238 ultralytics-8.1.5\n"
          ]
        }
      ],
      "source": [
        "!pip install ultralytics"
      ]
    },
    {
      "cell_type": "code",
      "source": [
        "import cv2\n",
        "from ultralytics import YOLO\n",
        "import numpy as np\n",
        "\n",
        "model_path = '/content/drive/MyDrive/yolov8_segmentation_train_20_epochs/weights/best.pt'\n",
        "image_path = '/content/drive/MyDrive/blending_logo_for_blue_car/input_frames/frame1.jpg'\n",
        "\n",
        "# Read the image\n",
        "img = cv2.imread(image_path)\n",
        "H, W, _ = img.shape\n",
        "\n",
        "# Load the YOLO model\n",
        "model = YOLO(model_path)\n",
        "\n",
        "# Perform inference\n",
        "results = model(img)\n",
        "\n",
        "# Initialize a blank mask\n",
        "combined_mask = np.zeros((H, W), dtype=np.uint8)\n",
        "\n",
        "# Iterate through each result and combine masks\n",
        "for result in results:\n",
        "    for j, mask in enumerate(result.masks.data):\n",
        "        # Convert mask to appropriate format and resize\n",
        "        mask = mask.numpy() * 255\n",
        "        mask = cv2.resize(mask, (W, H))\n",
        "\n",
        "        # Combine the current mask with the previous ones\n",
        "        combined_mask = cv2.bitwise_or(combined_mask, mask.astype(np.uint8))\n",
        "\n",
        "# Save the combined mask\n",
        "cv2.imwrite('/content/drive/MyDrive/blending_logo_for_blue_car/mask.png', combined_mask)\n"
      ],
      "metadata": {
        "colab": {
          "base_uri": "https://localhost:8080/"
        },
        "id": "hln8KNJSM-Tl",
        "outputId": "e533e570-553c-402e-b9e7-540134b3401f"
      },
      "execution_count": null,
      "outputs": [
        {
          "output_type": "stream",
          "name": "stdout",
          "text": [
            "\n",
            "0: 384x640 1 Logos, 261.3ms\n",
            "Speed: 7.8ms preprocess, 261.3ms inference, 3.9ms postprocess per image at shape (1, 3, 384, 640)\n"
          ]
        },
        {
          "output_type": "execute_result",
          "data": {
            "text/plain": [
              "True"
            ]
          },
          "metadata": {},
          "execution_count": 9
        }
      ]
    },
    {
      "cell_type": "code",
      "source": [
        "import cv2\n",
        "import numpy as np\n",
        "\n",
        "# Load the mask and logo images\n",
        "mask_path = '/content/drive/MyDrive/blending_logo_for_blue_car/output_mask.png'\n",
        "logo_path = '/content/drive/MyDrive/blending_logo_for_blue_car/logo_insta.png'\n",
        "\n",
        "mask = cv2.imread(mask_path, cv2.IMREAD_GRAYSCALE)  # Assuming mask is a grayscale image\n",
        "logo = cv2.imread(logo_path, cv2.IMREAD_UNCHANGED)\n",
        "\n",
        "# Find contours in the mask\n",
        "contours, _ = cv2.findContours(mask, cv2.RETR_EXTERNAL, cv2.CHAIN_APPROX_SIMPLE)\n",
        "\n",
        "# Assuming the largest contour is the white region where the logo needs to be placed\n",
        "contour = max(contours, key=cv2.contourArea)\n",
        "x, y, w, h = cv2.boundingRect(contour)\n",
        "\n",
        "# Resize logo to fit the white region\n",
        "resized_logo = cv2.resize(logo, (w, h))\n",
        "\n",
        "# Create a new blank image with white background\n",
        "new_image = np.ones((mask.shape[0], mask.shape[1], 3), dtype=np.uint8) * 255\n",
        "\n",
        "# Place the resized logo in the new image\n",
        "if resized_logo.shape[2] == 4:  # Check if logo has transparency\n",
        "    alpha_s = resized_logo[:, :, 3] / 255.0\n",
        "    alpha_l = 1.0 - alpha_s\n",
        "\n",
        "    for c in range(0, 3):\n",
        "        new_image[y:y+h, x:x+w, c] = (alpha_s * resized_logo[:, :, c] +\n",
        "                                      alpha_l * new_image[y:y+h, x:x+w, c])\n",
        "else:\n",
        "    new_image[y:y+h, x:x+w] = resized_logo\n",
        "\n",
        "# Save the new image\n",
        "cv2.imwrite('/content/drive/MyDrive/blending_logo_for_blue_car/resized_logo.png', new_image)\n"
      ],
      "metadata": {
        "colab": {
          "base_uri": "https://localhost:8080/"
        },
        "id": "OAxYMUMZNNYk",
        "outputId": "a8faf5f5-d8f6-4134-d83b-b94fbf2bf195"
      },
      "execution_count": null,
      "outputs": [
        {
          "output_type": "execute_result",
          "data": {
            "text/plain": [
              "True"
            ]
          },
          "metadata": {},
          "execution_count": 6
        }
      ]
    },
    {
      "cell_type": "code",
      "source": [
        "import cv2\n",
        "import numpy as np\n",
        "\n",
        "# Load the image and mask\n",
        "image = cv2.imread('/content/drive/MyDrive/data/images/train/trimmed-Abu-Dhabi-Grand-Prix-Logan-Sargeant-_mp4-0000_jpg.rf.416fc85c69cb0cba94c2ccb39c7fd755.jpg')\n",
        "mask = cv2.imread('/content/drive/MyDrive/blending_logo_for_blue_car/output_mask.png', cv2.IMREAD_GRAYSCALE)\n",
        "\n",
        "# Find contours in the mask\n",
        "contours, _ = cv2.findContours(mask, cv2.RETR_EXTERNAL, cv2.CHAIN_APPROX_SIMPLE)\n",
        "\n",
        "# Create an empty mask of the same size as the input\n",
        "result_mask = np.zeros_like(mask)\n",
        "\n",
        "# Iterate through the contours and draw them on the result mask\n",
        "cv2.drawContours(result_mask, contours, -1, (255), thickness=cv2.FILLED)\n",
        "\n",
        "# Use the result mask to extract the region of interest from the original image\n",
        "result_image = cv2.bitwise_and(image, image, mask=result_mask)\n",
        "\n",
        "# Save the cropped image\n",
        "cv2.imwrite('/content/drive/MyDrive/blending_logo_for_blue_car/cropped_img.png', result_image)\n"
      ],
      "metadata": {
        "colab": {
          "base_uri": "https://localhost:8080/"
        },
        "id": "kdBHEhYSTTHv",
        "outputId": "21692455-e4dc-46f0-e310-0a9c04558efa"
      },
      "execution_count": null,
      "outputs": [
        {
          "output_type": "execute_result",
          "data": {
            "text/plain": [
              "True"
            ]
          },
          "metadata": {},
          "execution_count": 7
        }
      ]
    },
    {
      "cell_type": "code",
      "source": [
        "from PIL import Image\n",
        "\n",
        "# Load the base image\n",
        "base_image_path = '/content/drive/MyDrive/data/images/train/trimmed-Abu-Dhabi-Grand-Prix-Logan-Sargeant-_mp4-0000_jpg.rf.416fc85c69cb0cba94c2ccb39c7fd755.jpg'\n",
        "base_image = Image.open(base_image_path).convert('RGBA')\n",
        "\n",
        "# Load the transparent image\n",
        "transparent_image_path = 'blended_image_6.png'\n",
        "transparent_image = Image.open(transparent_image_path).convert('RGBA')\n",
        "\n",
        "# Paste the transparent image onto the base image\n",
        "result_image = Image.alpha_composite(base_image, transparent_image)\n",
        "\n",
        "# Display the result\n",
        "result_image.show()\n",
        "\n",
        "# Save the result\n",
        "result_image.save('/content/drive/MyDrive/blending_logo_for_blue_car/res.png')\n"
      ],
      "metadata": {
        "id": "KtdEA3JbUOmn"
      },
      "execution_count": null,
      "outputs": []
    }
  ]
}