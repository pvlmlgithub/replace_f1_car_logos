{
 "cells": [
  {
   "cell_type": "code",
   "execution_count": 3,
   "id": "11e04b97-3151-4da5-b022-33b74906366e",
   "metadata": {},
   "outputs": [
    {
     "data": {
      "image/png": "[encoded data removed]",
      "text/plain": [
       "<Figure size 640x480 with 1 Axes>"
      ]
     },
     "metadata": {},
     "output_type": "display_data"
    },
    {
     "data": {
      "text/plain": [
       "'1_test_with_box.png'"
      ]
     },
     "execution_count": 3,
     "metadata": {},
     "output_type": "execute_result"
    }
   ],
   "source": [
    "'''import cv2\n",
    "import numpy as np\n",
    "import matplotlib.pyplot as plt\n",
    "\n",
    "# This function will calculate the bounding box and draw it on the image\n",
    "def calculate_and_draw_bounding_box(image_path):\n",
    "    # Load the image in grayscale mode\n",
    "    image = cv2.imread(image_path, 0)\n",
    "\n",
    "    # Threshold the image to ensure it's binary\n",
    "    _, thresh = cv2.threshold(image, 127, 255, cv2.THRESH_BINARY)\n",
    "\n",
    "    # Find contours in the image\n",
    "    contours, _ = cv2.findContours(thresh, cv2.RETR_EXTERNAL, cv2.CHAIN_APPROX_SIMPLE)\n",
    "\n",
    "    # Assuming there is only one contour, which is the white region\n",
    "    cnt = contours[0]\n",
    "\n",
    "    # Find the rotated rectangle that bounds the white region\n",
    "    rect = cv2.minAreaRect(cnt)\n",
    "    box = cv2.boxPoints(rect)\n",
    "    box = np.int0(box)\n",
    "\n",
    "    # Draw the bounding box on the original image\n",
    "    image_with_box = cv2.cvtColor(image, cv2.COLOR_GRAY2BGR)\n",
    "    cv2.drawContours(image_with_box, [box], 0, (0, 255, 0), 2)\n",
    "\n",
    "    # The dimensions of the bounding box\n",
    "    width, height = rect[1]\n",
    "\n",
    "    # The orientation of the bounding box\n",
    "    angle = rect[2]\n",
    "\n",
    "    # Normalize the angle to ensure the width is always the longer side\n",
    "    if width < height:\n",
    "        width, height = height, width\n",
    "        angle = 90 + angle\n",
    "\n",
    "    # Save the image with the bounding box\n",
    "    output_path = image_path.replace('.png', '_with_box.png')\n",
    "    cv2.imwrite(output_path, image_with_box)\n",
    "\n",
    "    # Return the bounding box details and the path to the saved image with the bounding box\n",
    "    return (width, height, angle, output_path)\n",
    "\n",
    "# Calculate the bounding box, draw it on the image, and save the output\n",
    "bounding_box_details = calculate_and_draw_bounding_box('1_test.png')\n",
    "\n",
    "# Display the image with the bounding box\n",
    "image_with_box_path = bounding_box_details[3]\n",
    "image_with_box = cv2.imread(image_with_box_path)\n",
    "plt.imshow(cv2.cvtColor(image_with_box, cv2.COLOR_BGR2RGB))\n",
    "plt.axis('off')  # Hide the axes\n",
    "plt.show()\n",
    "\n",
    "# Output the path to the saved image with the bounding box\n",
    "image_with_box_path\n",
    "'''"
   ]
  },
  {
   "cell_type": "code",
   "execution_count": 4,
   "id": "b6b0d3f8-5960-4bea-8a92-22b80f8669a9",
   "metadata": {},
   "outputs": [
    {
     "data": {
      "text/plain": [
       "(159.72450256347656,\n",
       " 50.89612579345703,\n",
       " 103.82864952087402,\n",
       " '1_test_with_box.png')"
      ]
     },
     "execution_count": 4,
     "metadata": {},
     "output_type": "execute_result"
    }
   ],
   "source": []
  },
  {
   "cell_type": "code",
   "execution_count": 12,
   "id": "1bc850a7-6ba8-455e-9b44-adf5d0402d26",
   "metadata": {},
   "outputs": [
    {
     "data": {
      "image/png": "[encoded data removed]",
      "text/plain": [
       "<Figure size 640x480 with 1 Axes>"
      ]
     },
     "metadata": {},
     "output_type": "display_data"
    },
    {
     "name": "stdout",
     "output_type": "stream",
     "text": [
      "Center coordinates of the bounding box: (973.04736328125, 366.2445068359375)\n",
      "Width: 117.65, Height: 28.96, Angle: 19.98\n"
     ]
    }
   ],
   "source": [
    "import cv2\n",
    "import numpy as np\n",
    "import matplotlib.pyplot as plt\n",
    "\n",
    "# This function will calculate the bounding box and draw it on the image\n",
    "def calculate_and_draw_bounding_box(image_path):\n",
    "    # Load the image in grayscale mode\n",
    "    image = cv2.imread(image_path, 0)\n",
    "\n",
    "    # Threshold the image to ensure it's binary\n",
    "    _, thresh = cv2.threshold(image, 127, 255, cv2.THRESH_BINARY)\n",
    "\n",
    "    # Find contours in the image\n",
    "    contours, _ = cv2.findContours(thresh, cv2.RETR_EXTERNAL, cv2.CHAIN_APPROX_SIMPLE)\n",
    "\n",
    "    # Assuming there is only one contour, which is the white region\n",
    "    cnt = contours[0]\n",
    "\n",
    "    # Find the rotated rectangle that bounds the white region\n",
    "    rect = cv2.minAreaRect(cnt)\n",
    "    box = cv2.boxPoints(rect)\n",
    "    box = np.int0(box)\n",
    "\n",
    "    # Draw the bounding box on the original image\n",
    "    image_with_box = cv2.cvtColor(image, cv2.COLOR_GRAY2BGR)\n",
    "    cv2.drawContours(image_with_box, [box], 0, (0, 255, 0), 2)\n",
    "\n",
    "    # The dimensions of the bounding box\n",
    "    width, height = rect[1]\n",
    "\n",
    "    # The orientation of the bounding box\n",
    "    angle = rect[2]\n",
    "\n",
    "    # Normalize the angle to ensure the width is always the longer side\n",
    "    if width < height:\n",
    "        width, height = height, width\n",
    "        angle = 90 + angle\n",
    "\n",
    "    # The center of the bounding box\n",
    "    center = rect[0]\n",
    "\n",
    "    # Save the image with the bounding box\n",
    "    output_path = image_path.replace('.png', '_with_box.png')\n",
    "    cv2.imwrite(output_path, image_with_box)\n",
    "\n",
    "    # Return the bounding box details and the path to the saved image with the bounding box\n",
    "    return (width, height, angle, center, output_path)\n",
    "\n",
    "# Calculate the bounding box, draw it on the image, and save the output\n",
    "bounding_box_details = calculate_and_draw_bounding_box('mask2.png')\n",
    "\n",
    "# Display the image with the bounding box\n",
    "image_with_box_path = bounding_box_details[4]\n",
    "image_with_box = cv2.imread(image_with_box_path)\n",
    "plt.imshow(cv2.cvtColor(image_with_box, cv2.COLOR_BGR2RGB))\n",
    "plt.axis('off')  # Hide the axes\n",
    "plt.show()\n",
    "\n",
    "# Print the center coordinates of the bounding box\n",
    "center_coordinates = bounding_box_details[3]\n",
    "print(f\"Center coordinates of the bounding box: {center_coordinates}\")\n",
    "\n",
    "# Print the width, height, and angle of the bounding box\n",
    "print(f\"Width: {bounding_box_details[0]:.2f}, Height: {bounding_box_details[1]:.2f}, Angle: {bounding_box_details[2]:.2f}\")\n"
   ]
  },
  {
   "cell_type": "code",
   "execution_count": 18,
   "id": "5c370622-39b4-4f0e-891e-86dc4eebddf0",
   "metadata": {},
   "outputs": [
    {
     "data": {
      "text/plain": [
       "(526.9161987304688, 605.8716430664062)"
      ]
     },
     "execution_count": 18,
     "metadata": {},
     "output_type": "execute_result"
    }
   ],
   "source": [
    "bounding_box_details[3]"
   ]
  },
  {
   "cell_type": "code",
   "execution_count": 14,
   "id": "87b767b4-f7d2-448b-8b9a-6b49259b0b96",
   "metadata": {},
   "outputs": [
    {
     "name": "stdout",
     "output_type": "stream",
     "text": [
      "(720, 1280)\n"
     ]
    }
   ],
   "source": [
    "image = cv2.imread(\"1_test.png\", 0)\n",
    "print(image.shape)"
   ]
  },
  {
   "cell_type": "code",
   "execution_count": 15,
   "id": "f01d394c-ff35-4eed-a080-29789a46f40a",
   "metadata": {},
   "outputs": [],
   "source": [
    "'''import cv2\n",
    "import numpy as np\n",
    "\n",
    "def place_logo_on_transparent_image(logo_path, length, breadth, angle, center):\n",
    "    # Create a transparent image (720x1280) with 4 channels (RGBA)\n",
    "    transparent_image = np.zeros((image.shape[1], image.shape[0], 4), dtype=np.uint8)\n",
    "    \n",
    "    # Load the logo image\n",
    "    logo = cv2.imread(logo_path, cv2.IMREAD_UNCHANGED)\n",
    "    if logo.shape[2] < 4:\n",
    "        # Add an alpha channel if the logo does not have one\n",
    "        logo = cv2.cvtColor(logo, cv2.COLOR_BGR2BGRA)\n",
    "    \n",
    "    # Calculate the size of the logo after resizing\n",
    "    scale_factor_width = length / logo.shape[1]\n",
    "    scale_factor_height = breadth / logo.shape[0]\n",
    "    logo_resized = cv2.resize(logo, None, fx=scale_factor_width, fy=scale_factor_height, interpolation=cv2.INTER_AREA)\n",
    "    \n",
    "    # Rotate the logo\n",
    "    # Calculate the rotation matrix\n",
    "    M = cv2.getRotationMatrix2D((logo_resized.shape[1] / 2, logo_resized.shape[0] / 2), angle, 1)\n",
    "    # Calculate the bounding box of the new image after rotation\n",
    "    abs_cos = abs(M[0, 0])\n",
    "    abs_sin = abs(M[0, 1])\n",
    "    bound_w = int(logo_resized.shape[0] * abs_sin + logo_resized.shape[1] * abs_cos)\n",
    "    bound_h = int(logo_resized.shape[0] * abs_cos + logo_resized.shape[1] * abs_sin)\n",
    "    # Adjust the rotation matrix to the center of the bounding box\n",
    "    M[0, 2] += bound_w / 2 - logo_resized.shape[1] / 2\n",
    "    M[1, 2] += bound_h / 2 - logo_resized.shape[0] / 2\n",
    "    # Rotate the logo with the new bounds\n",
    "    logo_rotated = cv2.warpAffine(logo_resized, M, (bound_w, bound_h), borderMode=cv2.BORDER_TRANSPARENT)\n",
    "    \n",
    "    # Convert rotated logo to 4 channels if necessary\n",
    "    if logo_rotated.shape[2] < 4:\n",
    "        logo_rotated = cv2.cvtColor(logo_rotated, cv2.COLOR_BGR2BGRA)\n",
    "    \n",
    "    # Place the logo on the transparent image\n",
    "    # Calculate the top-left corner from the center point\n",
    "    start_x = int(center[0] - bound_w / 2)\n",
    "    start_y = int(center[1] - bound_h / 2)\n",
    "    end_x = start_x + logo_rotated.shape[1]\n",
    "    end_y = start_y + logo_rotated.shape[0]\n",
    "    \n",
    "    # Ensure the logo is within bounds\n",
    "    if start_x < 0 or start_y < 0 or end_x > transparent_image.shape[1] or end_y > transparent_image.shape[0]:\n",
    "        raise ValueError(\"The logo placement is out of bounds.\")\n",
    "    \n",
    "    # Place the logo\n",
    "    for i in range(logo_rotated.shape[0]):\n",
    "        for j in range(logo_rotated.shape[1]):\n",
    "            if logo_rotated[i, j][3] > 0:  # Only non-transparent pixels\n",
    "                transparent_image[start_y + i, start_x + j] = logo_rotated[i, j]\n",
    "    \n",
    "    # Save the result\n",
    "    output_path = 'output_transparent_image_with_logo.png'\n",
    "    cv2.imwrite(output_path, transparent_image)\n",
    "    print(f\"Image saved to {output_path}\")\n",
    "\n",
    "\n",
    "\n",
    "'''"
   ]
  },
  {
   "cell_type": "code",
   "execution_count": 7,
   "id": "dfc7b4df-259f-4c8d-b695-9456c3630260",
   "metadata": {},
   "outputs": [
    {
     "data": {
      "text/plain": [
       "24.646766662597656"
      ]
     },
     "execution_count": 7,
     "metadata": {},
     "output_type": "execute_result"
    }
   ],
   "source": [
    "180 - bounding_box_details[2]"
   ]
  },
  {
   "cell_type": "code",
   "execution_count": null,
   "id": "180353fb-310f-4ecf-a6f0-78cf313e34bb",
   "metadata": {},
   "outputs": [],
   "source": []
  },
  {
   "cell_type": "code",
   "execution_count": null,
   "id": "554debdc-89bb-4354-b7e2-a660464a4ea8",
   "metadata": {},
   "outputs": [],
   "source": []
  },
  {
   "cell_type": "code",
   "execution_count": 28,
   "id": "ed340114-1916-4643-9a07-12b3d55b423a",
   "metadata": {},
   "outputs": [],
   "source": [
    "import cv2\n",
    "import numpy as np\n",
    "\n",
    "def place_logo_on_transparent_image(logo_path, length, breadth, angle, center):\n",
    "    transparent_image = np.zeros((720, 1280, 4), dtype=np.uint8)\n",
    "    \n",
    "    # Load the logo image with transparency if available\n",
    "    logo = cv2.imread(logo_path, cv2.IMREAD_UNCHANGED)\n",
    "    \n",
    "    # Check if the image was loaded successfully\n",
    "    if logo is None:\n",
    "        raise FileNotFoundError(f\"No image found at path: {logo_path}\")\n",
    "    \n",
    "    # If the logo does not have an alpha channel, add one\n",
    "    if len(logo.shape) == 2:  # Grayscale image\n",
    "        logo = cv2.cvtColor(logo, cv2.COLOR_GRAY2BGRA)\n",
    "    elif logo.shape[2] == 3:  # Color image without alpha channel\n",
    "        logo = cv2.cvtColor(logo, cv2.COLOR_BGR2BGRA)\n",
    "    \n",
    "    # Ensure length and breadth are integers\n",
    "    length, breadth = int(length), int(breadth)\n",
    "\n",
    "    # Resize the logo to fit the desired dimensions\n",
    "    logo_resized = cv2.resize(logo, (length, breadth), interpolation=cv2.INTER_AREA)\n",
    "    \n",
    "    # Calculate the rotation matrix considering the center of the logo\n",
    "    M = cv2.getRotationMatrix2D((length / 2, breadth / 2), angle, 1)\n",
    "    # Determine the size of the new image required to avoid clipping\n",
    "    cos = np.abs(M[0, 0])\n",
    "    sin = np.abs(M[0, 1])\n",
    "    new_width = int((breadth * sin) + (length * cos))\n",
    "    new_height = int((breadth * cos) + (length * sin))\n",
    "    # Adjust the rotation matrix to consider translation\n",
    "    M[0, 2] += (new_width / 2) - (length / 2)\n",
    "    M[1, 2] += (new_height / 2) - (breadth / 2)\n",
    "    # Rotate the logo without clipping\n",
    "    logo_rotated = cv2.warpAffine(logo_resized, M, (new_width, new_height), borderMode=cv2.BORDER_TRANSPARENT)\n",
    "    \n",
    "    # Convert rotated logo back to BGRA if it lost the alpha channel during rotation\n",
    "    if logo_rotated.shape[-1] != 4:\n",
    "        logo_rotated = cv2.cvtColor(logo_rotated, cv2.COLOR_BGR2BGRA)\n",
    "    \n",
    "    # Calculate the position to place the logo\n",
    "    start_x = int(center[0] - new_width / 2)\n",
    "    start_y = int(center[1] - new_height / 2)\n",
    "    \n",
    "    # Ensure the starting points are within the transparent image bounds\n",
    "    start_x = max(0, start_x)\n",
    "    start_y = max(0, start_y)\n",
    "    \n",
    "    # Place the logo on the transparent image\n",
    "    for y in range(logo_rotated.shape[0]):\n",
    "        for x in range(logo_rotated.shape[1]):\n",
    "            if logo_rotated[y, x][3] > 0:  # Check for alpha channel value\n",
    "                transparent_image[start_y + y, start_x + x] = logo_rotated[y, x]\n",
    "\n",
    "    # Save the result\n",
    "    output_path = 'output10.png'\n",
    "    cv2.imwrite(output_path, transparent_image)\n",
    "    return output_path"
   ]
  },
  {
   "cell_type": "code",
   "execution_count": 29,
   "id": "6c2886f2-2622-478f-b012-020fad5bf99f",
   "metadata": {},
   "outputs": [
    {
     "data": {
      "text/plain": [
       "'output10.png'"
      ]
     },
     "execution_count": 29,
     "metadata": {},
     "output_type": "execute_result"
    }
   ],
   "source": [
    "place_logo_on_transparent_image('nokia.png', bounding_box_details[0], bounding_box_details[1], 180 - bounding_box_details[2], (bounding_box_details[3][0], bounding_box_details[3][1]))"
   ]
  },
  {
   "cell_type": "code",
   "execution_count": 27,
   "id": "2eb4b2af-5fb3-4b69-9199-928d4d130335",
   "metadata": {},
   "outputs": [
    {
     "name": "stdout",
     "output_type": "stream",
     "text": [
      "Image saved to output9_inside_bbox.png\n"
     ]
    }
   ],
   "source": [
    "import cv2\n",
    "import numpy as np\n",
    "\n",
    "def delete_outside_bounding_box(image_path, bbox_details):\n",
    "    # Load the image with alpha channel\n",
    "    image = cv2.imread(image_path, cv2.IMREAD_UNCHANGED)\n",
    "    \n",
    "    # Bounding box details: width, height, angle (counterclockwise from +x axis), and center (x, y)\n",
    "    width, height, angle, center = bbox_details\n",
    "    \n",
    "    # Convert width, height, angle, and center into integers\n",
    "    width, height = int(width), int(height)\n",
    "    center = (int(center[0]), int(center[1]))\n",
    "    \n",
    "    # Create a blank mask with the same dimensions as the image\n",
    "    mask = np.zeros(image.shape[:2], dtype=np.uint8)\n",
    "    \n",
    "    # Calculate the bounding box points (assuming rectangle for simplicity)\n",
    "    rect = ((center[0], center[1]), (width, height), angle)\n",
    "    box = cv2.boxPoints(rect)\n",
    "    box = np.int0(box)\n",
    "    \n",
    "    # Draw the rectangle on the mask with white color\n",
    "    cv2.drawContours(mask, [box], 0, (255), -1)\n",
    "    \n",
    "    # Create a new image to store the result\n",
    "    result = np.zeros_like(image)\n",
    "    \n",
    "    # Apply the mask to retain only the part inside the bounding box\n",
    "    for i in range(4):  # Loop through B, G, R, and Alpha channels\n",
    "        result[:,:,i] = cv2.bitwise_and(image[:,:,i], image[:,:,i], mask=mask)\n",
    "    \n",
    "    # Save the result\n",
    "    output_path = image_path.replace('.png', '_inside_bbox.png')\n",
    "    cv2.imwrite(output_path, result)\n",
    "    \n",
    "    return output_path\n",
    "\n",
    "# Bounding box details obtained from the first part\n",
    "bounding_box_details = ( bounding_box_details[0], bounding_box_details[1], bounding_box_details[2], (bounding_box_details[3][0], bounding_box_details[3][1]))  # Replace with actual values\n",
    "\n",
    "# Your alpha image path\n",
    "image_path = 'output9.png'  # Specify your alpha image path\n",
    "\n",
    "# Delete everything outside the bounding box\n",
    "output_path = delete_outside_bounding_box(image_path, bounding_box_details)\n",
    "\n",
    "print(f\"Image saved to {output_path}\")\n"
   ]
  },
  {
   "cell_type": "code",
   "execution_count": 11,
   "id": "3e96a24d-0bd2-4c69-9e9c-a569f743e484",
   "metadata": {},
   "outputs": [
    {
     "ename": "NameError",
     "evalue": "name 'logo' is not defined",
     "output_type": "error",
     "traceback": [
      "\u001b[1;31m---------------------------------------------------------------------------\u001b[0m",
      "\u001b[1;31mNameError\u001b[0m                                 Traceback (most recent call last)",
      "Cell \u001b[1;32mIn[11], line 1\u001b[0m\n\u001b[1;32m----> 1\u001b[0m \u001b[43mlogo\u001b[49m\u001b[38;5;241m.\u001b[39mshape\n",
      "\u001b[1;31mNameError\u001b[0m: name 'logo' is not defined"
     ]
    }
   ],
   "source": []
  },
  {
   "cell_type": "code",
   "execution_count": null,
   "id": "7ecc1bac-eff6-4f3e-95ac-151304dedf6e",
   "metadata": {},
   "outputs": [],
   "source": []
  },
  {
   "cell_type": "code",
   "execution_count": null,
   "id": "84707b3d-d171-42a4-a5fe-b00d38928d01",
   "metadata": {},
   "outputs": [],
   "source": []
  },
  {
   "cell_type": "code",
   "execution_count": 8,
   "id": "85e83a55-e10a-485b-a35d-7728c25d5758",
   "metadata": {},
   "outputs": [
    {
     "ename": "NameError",
     "evalue": "name 'bounding_box' is not defined",
     "output_type": "error",
     "traceback": [
      "\u001b[1;31m---------------------------------------------------------------------------\u001b[0m",
      "\u001b[1;31mNameError\u001b[0m                                 Traceback (most recent call last)",
      "Cell \u001b[1;32mIn[8], line 48\u001b[0m\n\u001b[0;32m     45\u001b[0m logo_image_path \u001b[38;5;241m=\u001b[39m \u001b[38;5;124m'\u001b[39m\u001b[38;5;124mlogo.jpg\u001b[39m\u001b[38;5;124m'\u001b[39m  \u001b[38;5;66;03m# Replace with your logo image path if different\u001b[39;00m\n\u001b[0;32m     47\u001b[0m \u001b[38;5;66;03m# Fit the logo to the bounding box and get the result\u001b[39;00m\n\u001b[1;32m---> 48\u001b[0m fitted_logo_image \u001b[38;5;241m=\u001b[39m fit_logo_to_bounding_box(logo_image_path, \u001b[43mbounding_box\u001b[49m)\n\u001b[0;32m     50\u001b[0m \u001b[38;5;66;03m# Save the resulting image\u001b[39;00m\n\u001b[0;32m     51\u001b[0m output_fitted_logo_path \u001b[38;5;241m=\u001b[39m \u001b[38;5;124m'\u001b[39m\u001b[38;5;124mfitted_logo.png\u001b[39m\u001b[38;5;124m'\u001b[39m\n",
      "\u001b[1;31mNameError\u001b[0m: name 'bounding_box' is not defined"
     ]
    }
   ],
   "source": [
    "'''# Define the function to resize, rotate, and place the logo on a transparent background\n",
    "def fit_logo_to_bounding_box(logo_path, bounding_box):\n",
    "    # Unpack bounding box details\n",
    "    (x_center, y_center), (width, height), angle = bounding_box\n",
    "    \n",
    "    # Load the logo image with transparency\n",
    "    logo = cv2.imread(logo_path, cv2.IMREAD_UNCHANGED)\n",
    "    \n",
    "    # Resize logo to fit the bounding box dimensions\n",
    "    logo_resized = cv2.resize(logo, (int(width), int(height)))\n",
    "    \n",
    "    # Since OpenCV defines the angle in the clockwise direction, we convert it to anti-clockwise.\n",
    "    angle = -angle\n",
    "    \n",
    "    # Calculate the rotation matrix for the logo\n",
    "    M = cv2.getRotationMatrix2D((width / 2, height / 2), angle, 1)\n",
    "    # Determine the size of the new image required to avoid clipping\n",
    "    cos = np.abs(M[0, 0])\n",
    "    sin = np.abs(M[0, 1])\n",
    "    new_width = int((height * sin) + (width * cos))\n",
    "    new_height = int((height * cos) + (width * sin))\n",
    "    # Adjust the rotation matrix to consider translation\n",
    "    M[0, 2] += (new_width / 2) - (width / 2)\n",
    "    M[1, 2] += (new_height / 2) - (height / 2)\n",
    "    # Rotate the logo without clipping\n",
    "    logo_rotated = cv2.warpAffine(logo_resized, M, (new_width, new_height))\n",
    "    \n",
    "    # Create a new transparent image\n",
    "    transparent_image = np.zeros((1280, 720, 4), dtype=np.uint8)\n",
    "    \n",
    "    # Calculate the top-left corner for the logo\n",
    "    start_x = int(x_center - new_width / 2)\n",
    "    start_y = int(y_center - new_height / 2)\n",
    "    \n",
    "    # Overlay the rotated logo onto the transparent image\n",
    "    for i in range(logo_rotated.shape[0]):\n",
    "        for j in range(logo_rotated.shape[1]):\n",
    "            # Check if the pixel is not fully transparent\n",
    "            if logo_rotated[i, j][3] > 0:\n",
    "                transparent_image[start_y + i, start_x + j] = logo_rotated[i, j]\n",
    "    \n",
    "    return transparent_image\n",
    "\n",
    "# Provide the path to your logo image\n",
    "logo_image_path = 'logo.jpg'  # Replace with your logo image path if different\n",
    "\n",
    "# Fit the logo to the bounding box and get the result\n",
    "fitted_logo_image = fit_logo_to_bounding_box(logo_image_path, bounding_box)\n",
    "\n",
    "# Save the resulting image\n",
    "output_fitted_logo_path = 'fitted_logo.png'\n",
    "cv2.imwrite(output_fitted_logo_path, fitted_logo_image)\n",
    "\n",
    "# Display the resulting image\n",
    "plt.imshow(cv2.cvtColor(fitted_logo_image, cv2.COLOR_BGRA2RGBA))\n",
    "plt.axis('off')  # Hide the axes\n",
    "plt.show()\n",
    "\n",
    "# Return the path to the saved image\n",
    "output_fitted_logo_path\n"
   ]
  },
  {
   "cell_type": "code",
   "execution_count": 11,
   "id": "0f6d6e29-5d38-468d-a9f4-b108eefb435a",
   "metadata": {},
   "outputs": [
    {
     "data": {
      "image/png": "[encoded data removed]",
      "text/plain": [
       "<Figure size 640x480 with 1 Axes>"
      ]
     },
     "metadata": {},
     "output_type": "display_data"
    },
    {
     "data": {
      "text/plain": [
       "'fitted_logo_corrected.png'"
      ]
     },
     "execution_count": 11,
     "metadata": {},
     "output_type": "execute_result"
    }
   ],
   "source": [
    "'''# Since the execution environment has been reset, we need to redefine the bounding box details from the previous output.\n",
    "# These values are taken from the output of the calculate_bounding_box function.\n",
    "bounding_box_details = ((526.9161987304688, 605.8716430664062),\n",
    "                        (50.89612579345703, 159.72450256347656),\n",
    "                        13.828649520874023)\n",
    "\n",
    "# Redefine the function with improved error handling for image loading\n",
    "def fit_logo_to_bounding_box(logo_path, bounding_box):\n",
    "    # Unpack bounding box details\n",
    "    (x_center, y_center), (width, height), angle = bounding_box\n",
    "    \n",
    "    # Load the logo image with transparency if available\n",
    "    logo = cv2.imread(logo_path, cv2.IMREAD_UNCHANGED)\n",
    "    if logo is None:\n",
    "        raise FileNotFoundError(\"The logo image file was not found.\")\n",
    "    \n",
    "    # Check if the image has an alpha channel; if not, add one\n",
    "    if len(logo.shape) == 2 or logo.shape[2] == 3:\n",
    "        # Convert to BGRA (with alpha channel)\n",
    "        logo = cv2.cvtColor(logo, cv2.COLOR_BGR2BGRA)\n",
    "    \n",
    "    # Resize logo to fit the bounding box dimensions\n",
    "    logo_resized = cv2.resize(logo, (int(width), int(height)), interpolation=cv2.INTER_AREA)\n",
    "    \n",
    "    # Adjust the angle to match the image orientation\n",
    "    angle = -angle  # OpenCV's angle is in the clockwise direction\n",
    "    \n",
    "    # Calculate the rotation matrix for the logo\n",
    "    M = cv2.getRotationMatrix2D((width / 2, height / 2), angle, 1)\n",
    "    # Rotate the logo without clipping\n",
    "    logo_rotated = cv2.warpAffine(logo_resized, M, (int(width), int(height)), borderMode=cv2.BORDER_TRANSPARENT)\n",
    "    \n",
    "    # Create a new transparent image\n",
    "    transparent_image = np.zeros((1280, 720, 4), dtype=np.uint8)\n",
    "    \n",
    "    # Calculate the top-left corner for the logo\n",
    "    start_x = int(x_center - width / 2)\n",
    "    start_y = int(y_center - height / 2)\n",
    "    \n",
    "    # Overlay the rotated logo onto the transparent image\n",
    "    for i in range(int(height)):\n",
    "        for j in range(int(width)):\n",
    "            # Only overlay pixels that are not completely transparent\n",
    "            if logo_rotated[i, j][3] != 0:\n",
    "                transparent_image[start_y + i, start_x + j] = logo_rotated[i, j]\n",
    "    \n",
    "    return transparent_image\n",
    "\n",
    "# Path to the logo image (second uploaded image)\n",
    "logo_image_path = 'logo.jpg' \n",
    "\n",
    "# Fit the logo to the bounding box and get the result\n",
    "fitted_logo_image = fit_logo_to_bounding_box(logo_image_path, bounding_box_details)\n",
    "\n",
    "# Save the resulting image\n",
    "output_fitted_logo_path = 'fitted_logo_corrected.png'\n",
    "cv2.imwrite(output_fitted_logo_path, fitted_logo_image)\n",
    "\n",
    "# Display the resulting image\n",
    "plt.imshow(cv2.cvtColor(fitted_logo_image, cv2.COLOR_BGRA2RGBA))\n",
    "plt.axis('off')  # Hide the axes\n",
    "plt.show()\n",
    "\n",
    "# Return the path to the saved image\n",
    "output_fitted_logo_path\n"
   ]
  },
  {
   "cell_type": "code",
   "execution_count": null,
   "id": "15782f14-50d6-4a60-b6dc-290e9071e572",
   "metadata": {},
   "outputs": [],
   "source": [
    "import cv2\n",
    "from PIL import Image\n",
    "import numpy as np\n",
    "\n",
    "# Open the video file\n",
    "video_path = 'both.mp4'\n",
    "cap = cv2.VideoCapture(video_path)\n",
    "\n",
    "# Get video properties\n",
    "fps = cap.get(cv2.CAP_PROP_FPS)\n",
    "width = int(cap.get(cv2.CAP_PROP_FRAME_WIDTH))\n",
    "height = int(cap.get(cv2.CAP_PROP_FRAME_HEIGHT))\n",
    "\n",
    "# Create a VideoWriter object to save the output video\n",
    "fourcc = cv2.VideoWriter_fourcc(*'mp4v')  # You can change the codec based on your needs\n",
    "out = cv2.VideoWriter('th.mp4', fourcc, fps, (width, height))\n",
    "\n",
    "# Load the transparent image\n",
    "transparent_image_path = 'output10.png'\n",
    "transparent_image = Image.open(transparent_image_path).convert('RGBA')\n",
    "\n",
    "# Iterate through each frame in the video\n",
    "while True:\n",
    "    ret, frame = cap.read()\n",
    "\n",
    "    if not ret:\n",
    "        break\n",
    "    \n",
    "    # Convert the frame to RGBA\n",
    "    frame_rgba = cv2.cvtColor(frame, cv2.COLOR_BGR2RGBA)\n",
    "    base_image = Image.fromarray(frame_rgba)\n",
    "\n",
    "    # Resize the transparent image to match the frame size\n",
    "    transparent_image_resized = transparent_image.resize((width, height))\n",
    "\n",
    "    # Paste the transparent image onto the frame\n",
    "    result_image = Image.alpha_composite(base_image, transparent_image_resized)\n",
    "\n",
    "    # Convert the result back to BGR for writing to the output video\n",
    "    result_frame_bgr = cv2.cvtColor(np.array(result_image), cv2.COLOR_RGBA2BGR)\n",
    "\n",
    "    # Write the frame to the output video\n",
    "    out.write(result_frame_bgr)\n",
    "\n",
    "# Release the video capture and writer objects\n",
    "cap.release()\n",
    "out.release()\n",
    "\n",
    "\n"
   ]
  },
  {
   "cell_type": "code",
   "execution_count": null,
   "id": "56b5323b-3506-45e8-81e4-f4beac94d4a3",
   "metadata": {},
   "outputs": [],
   "source": []
  }
 ],
 "metadata": {
  "kernelspec": {
   "display_name": "prism",
   "language": "python",
   "name": "mini_project"
  },
  "language_info": {
   "codemirror_mode": {
    "name": "ipython",
    "version": 3
   },
   "file_extension": ".py",
   "mimetype": "text/x-python",
   "name": "python",
   "nbconvert_exporter": "python",
   "pygments_lexer": "ipython3",
   "version": "3.10.12"
  }
 },
 "nbformat": 4,
 "nbformat_minor": 5
}
